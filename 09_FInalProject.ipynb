{
 "cells": [
  {
   "cell_type": "code",
   "execution_count": 1,
   "id": "61859638-ef88-43eb-b106-3b5370dd5694",
   "metadata": {},
   "outputs": [
    {
     "name": "stdout",
     "output_type": "stream",
     "text": [
      "/home/ubuntu/notebooks/final exam\n"
     ]
    }
   ],
   "source": [
    "!pwd"
   ]
  },
  {
   "cell_type": "code",
   "execution_count": 2,
   "id": "dd61df92-8955-40ce-8779-1e027007d470",
   "metadata": {},
   "outputs": [
    {
     "data": {
      "text/plain": [
       "['2017Q3-capitalbikeshare-tripdata.csv',\n",
       " '2017q1-4.csv',\n",
       " 'zomato.csv.zip',\n",
       " 'practice-DM_BI_v2.ipynb',\n",
       " '09_FInalProject.ipynb',\n",
       " '2017Q2-capitalbikeshare-tripdata.csv',\n",
       " 'Draft_FInalProject (1).ipynb',\n",
       " '2017-Q1-trips.zip',\n",
       " '2017Q4-capitalbikeshare-tripdata.csv',\n",
       " '2017q1.csv',\n",
       " '.ipynb_checkpoints']"
      ]
     },
     "execution_count": 2,
     "metadata": {},
     "output_type": "execute_result"
    }
   ],
   "source": [
    "# import command.\n",
    "import os\n",
    "os.listdir()"
   ]
  },
  {
   "cell_type": "code",
   "execution_count": 4,
   "id": "33a736c5-fa0a-4d28-a9e7-b6f8c1fa4f16",
   "metadata": {},
   "outputs": [
    {
     "name": "stdout",
     "output_type": "stream",
     "text": [
      "Archive:  zomato.csv.zip\n",
      "  inflating: zomato.csv.csv          \n"
     ]
    }
   ],
   "source": [
    "!unzip zomato.csv"
   ]
  },
  {
   "cell_type": "markdown",
   "id": "98ce0cfc-e174-4b48-a00a-a504a8c6cd8b",
   "metadata": {},
   "source": [
    "Use xsv command to find the headings of csv file in order to remove the column we do not need for better analysis."
   ]
  },
  {
   "cell_type": "code",
   "execution_count": 5,
   "id": "ea29a44f-c4e2-4191-9c52-155ec53d9942",
   "metadata": {},
   "outputs": [
    {
     "name": "stdout",
     "output_type": "stream",
     "text": [
      "1   url\n",
      "2   address\n",
      "3   name\n",
      "4   online_order\n",
      "5   book_table\n",
      "6   rate\n",
      "7   votes\n",
      "8   phone\n",
      "9   location\n",
      "10  rest_type\n",
      "11  dish_liked\n",
      "12  cuisines\n",
      "13  approx_cost(for two people)\n",
      "14  reviews_list\n",
      "15  menu_item\n",
      "16  listed_in(type)\n",
      "17  listed_in(city)\n"
     ]
    }
   ],
   "source": [
    "!xsv headers zomato.csv"
   ]
  },
  {
   "cell_type": "markdown",
   "id": "ead62382-d622-4e87-860f-871b3f19f23a",
   "metadata": {},
   "source": [
    "There are 17 columns in this csv files. The following columns are not needed in the further analysis.\n",
    "\n",
    "\n",
    "1 url\n",
    "\n",
    "2 name\n",
    "\n",
    "8 phone\n",
    "\n",
    "14 reviews_list\n",
    "\n",
    "\n",
    "We will remove these 4 columns and take the rest and name it a new csv file using csvcut command. -z is to exapnd the maximum length of characters."
   ]
  },
  {
   "cell_type": "code",
   "execution_count": 6,
   "id": "ec08a6eb-6947-4b1b-a035-586ecd405cde",
   "metadata": {},
   "outputs": [],
   "source": [
    "!csvcut -z 2500000 -c 3,4,5,6,7,9,10,11,12,13,15,16,17 zomato.csv > zomato2.csv"
   ]
  },
  {
   "cell_type": "markdown",
   "id": "cbde0dcc-4d31-47da-82fe-1a3db687de00",
   "metadata": {},
   "source": [
    "Chekcing the existing columns for new csv file."
   ]
  },
  {
   "cell_type": "code",
   "execution_count": 7,
   "id": "09c76dad-7f67-4696-9707-a754c643d92e",
   "metadata": {},
   "outputs": [
    {
     "name": "stdout",
     "output_type": "stream",
     "text": [
      "  1: name\n",
      "  2: online_order\n",
      "  3: book_table\n",
      "  4: rate\n",
      "  5: votes\n",
      "  6: location\n",
      "  7: rest_type\n",
      "  8: dish_liked\n",
      "  9: cuisines\n",
      " 10: approx_cost(for two people)\n",
      " 11: menu_item\n",
      " 12: listed_in(type)\n",
      " 13: listed_in(city)\n"
     ]
    }
   ],
   "source": [
    "!csvcut -n zomato2.csv"
   ]
  },
  {
   "cell_type": "code",
   "execution_count": 8,
   "id": "83d79b89-37af-4e9c-8a92-2bd1f8e14a5f",
   "metadata": {
    "scrolled": true,
    "tags": []
   },
   "outputs": [
    {
     "name": "stdout",
     "output_type": "stream",
     "text": [
      "  1. \"name\"\n",
      "\n",
      "\tType of data:          Text\n",
      "\tContains null values:  False\n",
      "\tUnique values:         8792\n",
      "\tLongest value:         159 characters\n",
      "\tMost common values:    Cafe Coffee Day (96x)\n",
      "\t                       Onesta (85x)\n",
      "\t                       Just Bake (73x)\n",
      "\t                       Empire Restaurant (71x)\n",
      "\t                       Five Star Chicken (70x)\n",
      "\n",
      "  2. \"online_order\"\n",
      "\n",
      "\tType of data:          Boolean\n",
      "\tContains null values:  False\n",
      "\tUnique values:         2\n",
      "\tMost common values:    True (30444x)\n",
      "\t                       False (21273x)\n",
      "\n",
      "  3. \"book_table\"\n",
      "\n",
      "\tType of data:          Boolean\n",
      "\tContains null values:  False\n",
      "\tUnique values:         2\n",
      "\tMost common values:    False (45268x)\n",
      "\t                       True (6449x)\n",
      "\n",
      "  4. \"rate\"\n",
      "\n",
      "\tType of data:          Text\n",
      "\tContains null values:  True (excluded from calculations)\n",
      "\tUnique values:         65\n",
      "\tLongest value:         6 characters\n",
      "\tMost common values:    None (7775x)\n",
      "\t                       NEW (2208x)\n",
      "\t                       3.9/5 (2098x)\n",
      "\t                       3.8/5 (2022x)\n",
      "\t                       3.7/5 (2011x)\n",
      "\n",
      "  5. \"votes\"\n",
      "\n",
      "\tType of data:          Number\n",
      "\tContains null values:  False\n",
      "\tUnique values:         2328\n",
      "\tSmallest value:        0\n",
      "\tLargest value:         16832\n",
      "\tSum:                   14671985\n",
      "\tMean:                  283.698\n",
      "\tMedian:                41\n",
      "\tStDev:                 803.839\n",
      "\tMost common values:    0 (10027x)\n",
      "\t                       4 (1140x)\n",
      "\t                       6 (992x)\n",
      "\t                       7 (872x)\n",
      "\t                       9 (738x)\n",
      "\n",
      "  6. \"location\"\n",
      "\n",
      "\tType of data:          Text\n",
      "\tContains null values:  True (excluded from calculations)\n",
      "\tUnique values:         94\n",
      "\tLongest value:         29 characters\n",
      "\tMost common values:    BTM (5124x)\n",
      "\t                       HSR (2523x)\n",
      "\t                       Koramangala 5th Block (2504x)\n",
      "\t                       JP Nagar (2235x)\n",
      "\t                       Whitefield (2144x)\n",
      "\n",
      "  7. \"rest_type\"\n",
      "\n",
      "\tType of data:          Text\n",
      "\tContains null values:  True (excluded from calculations)\n",
      "\tUnique values:         94\n",
      "\tLongest value:         29 characters\n",
      "\tMost common values:    Quick Bites (19132x)\n",
      "\t                       Casual Dining (10330x)\n",
      "\t                       Cafe (3732x)\n",
      "\t                       Delivery (2604x)\n",
      "\t                       Dessert Parlor (2263x)\n",
      "\n",
      "  8. \"dish_liked\"\n",
      "\n",
      "\tType of data:          Text\n",
      "\tContains null values:  True (excluded from calculations)\n",
      "\tUnique values:         5272\n",
      "\tLongest value:         134 characters\n",
      "\tMost common values:    None (28078x)\n",
      "\t                       Biryani (182x)\n",
      "\t                       Chicken Biryani (73x)\n",
      "\t                       Friendly Staff (69x)\n",
      "\t                       Waffles (68x)\n",
      "\n",
      "  9. \"cuisines\"\n",
      "\n",
      "\tType of data:          Text\n",
      "\tContains null values:  True (excluded from calculations)\n",
      "\tUnique values:         2724\n",
      "\tLongest value:         86 characters\n",
      "\tMost common values:    North Indian (2913x)\n",
      "\t                       North Indian, Chinese (2385x)\n",
      "\t                       South Indian (1828x)\n",
      "\t                       Biryani (918x)\n",
      "\t                       Bakery, Desserts (911x)\n",
      "\n",
      " 10. \"approx_cost(for two people)\"\n",
      "\n",
      "\tType of data:          Number\n",
      "\tContains null values:  True (excluded from calculations)\n",
      "\tUnique values:         71\n",
      "\tSmallest value:        40\n",
      "\tLargest value:         6000\n",
      "\tSum:                   28533075\n",
      "\tMean:                  555.432\n",
      "\tMedian:                400\n",
      "\tStDev:                 438.851\n",
      "\tMost common values:    300 (7576x)\n",
      "\t                       400 (6562x)\n",
      "\t                       500 (4980x)\n",
      "\t                       200 (4857x)\n",
      "\t                       600 (3714x)\n",
      "\n",
      " 11. \"menu_item\"\n",
      "\n",
      "\tType of data:          Text\n",
      "\tContains null values:  False\n",
      "\tUnique values:         9098\n",
      "\tLongest value:         24897 characters\n",
      "\tMost common values:    [] (39617x)\n",
      "\t                       ['Butter Chicken Pizza', 'Bombay Veggie Burger', 'Tawa Paneer Burger', 'Oh So Cheesy Burger', 'Barbecue Chicken Burger', 'Peri Peri Chicken Burger', 'BBQ Lamb', 'Cheesy Chicken', 'Crunchy Ferrero', 'Lots of Nuts', 'Kadhai Paneer Pizza', 'Chilli Paneer and Mushroom Pizza', 'Chipotle Veggie Pizza', 'Creamy Cheese Pizza', 'Southern Veggie Korma Pizza', 'Popeye, The Corny Man Pizza', 'Paneer Tikka Pizza', 'Desi Margherita Pizza', 'Roasted Paneer with Mustard Pizza', 'Bangalore Express Pizza', 'Italian Chaska Pizza', 'Mayo and Cheese Pizza', 'Classic Margherita', 'Cajun Hawaiian Pizza', 'Butter Chicken Pizza', 'Lasooni Bhuna Murg Pizza', 'Chilly Chicken Pizza', 'Hot Garlic Chicken Pizza', 'Murg Barbecue Pizza', 'Mediterranean Mutton Keema Pizza', 'Super Green Burger', 'Quinoa Black Bean Burger', 'Bombay Veggie Burger', 'Tawa Paneer Burger', 'Oh So Cheesy Burger', 'Barbecue Chicken Burger', 'Chipotle Lamb Burger', 'Crumb Fried Fish Burger', 'Peri Peri Chicken Burger', 'BBQ Lamb', 'Cheesy Chicken', 'Picnic Chicken Burger', 'Korean Grilled Chicken with Kimchi', 'Kiddy Kat Strawberry', 'Kiddy Kat Chocolate', 'Bubblegum', 'Oreo Shake', 'Caramel Shake', 'Chocolate Shake', 'Strawberry Shake', 'Vanilla Shake', 'Cold Coffee', 'Virgin Mojito', 'Iced Tea', 'Hot Chocolate', 'Cappuccino', 'Latte', 'Espresso Shot', 'Brownie Shake', 'Red Velvet Cheesecake Shake', 'Oreo Cheesecake Shake', 'Salted Caramel Popcorn', 'Coconut Crumble', 'Coffee Crunch', 'Bira', 'Thanda Paan', 'Sticky Toffee Pudding', 'Blueberry Cheesecake', 'Nutella Cheesecake', 'Caramel Custard with Strawberry or Figs', 'Red Velvet Cheesecake', 'Tiramisu', 'Zesty Vanilla and Tipsy Brownie', 'Oreo Explosion', 'Chocolate Almond Crumble', 'Crunchy Ferrero', \"Stoner's Chocolate Decadence\", 'Brownie Bash', 'Chocolate Lava', 'Dark Chocolate Caramel', 'Chocolate Overload', 'Lots of Nuts', 'Peanut Butter Crunch', 'Nutty Fudgy', 'Lemon Pistachio Biscotti', 'Frutilicious Ice Cream', 'Strawberry Tease Ice Cream', 'Mango Tango Ice Cream', 'Lychee Lovers Ice Cream', 'Monkey Business Ice Cream', 'Apple Crumble Ice Cream', 'Blueberry Bliss Ice Cream'] (11x)\n",
      "\t                       ['Avil Milk', 'Oreo Shake', 'Chocolate Shake', 'Royal Falooda', 'Fruits Salad with Ice Cream', 'Fruits Salad with Ice Cream', 'Blackcurrant Ice Cream', 'Spanish Delight Ice Cream', 'Chillout Special Ice Cream', 'Chocolate Ice Cream', 'Butterscotch Ice Cream', 'Pista Ice Cream', 'Strawberry Ice Cream', 'Vanilla Ice Cream', 'Royal Falooda', 'Strawberry Falooda', 'Chillout Special Falooda', 'Lemon Juice', 'Mint Lemon Juice', 'Ginger Lemon Juice', 'Lemon Soda', 'Mint Lemon Soda', 'CAP Juice', 'Kiwi Juice', 'Carrot Juice', 'Pomegranate Juice', 'Watermelon Juice', 'Muskmelon Juice', 'Anjeer Juice', 'Pure Strawberry Juice', 'Papaya Juice', 'Orange Juice', 'Mosambi Juice', 'Grape Juice', 'Apple Juice', 'Pineapple Juice', 'Banana Juice', 'Rose Milk', 'Chikoo Shake', 'Sharja Shake', 'Kiwi Shake', 'Oreo Shake', 'Raspberry Shake', 'Pomegranate Shake', 'Mango Shake', 'Muskmelon Shake', 'Papaya Shake', 'Apple Shake', 'Berries Shake', 'Spanish Delight Shake', 'Blackcurrant Shake', 'Chillout Special Shake', 'Chocolate Shake', 'Butterscotch Shake', 'Strawberry Shake', 'Vanilla Shake', 'Pista Shake', 'Cold Coffee Shake', 'Avil Milk', 'Special Milk', 'Kulki Sarbath', 'Sweet Lassi', 'Chocolate Lassi', 'Mango Lassi', 'Banana Lassi', 'Strawberry Lassi'] (10x)\n",
      "\t                       ['Chicken Cheese Burger', 'Chicken Billys BIg Burger', 'French Fries', 'Alfredo Veg Pasta', 'Brownie Waffles', 'Veg Burger', 'Veg Cheese Burger', 'Veg Caramelized onion Burger', 'Mushroom Classic Burger', 'Veg English Cheddar Cheese Burger', 'Veg Chipotle Corn Burger', 'Veg Billys BIg Burger', 'Chicken Burger', 'Chicken Cheese Burger', 'Chicken Caramelized Onion Burger', 'Chicken Mushroom Burger', 'Chicken English Cheddar Cheese Burger', 'Chicken Chipotle Corn Burger', 'Chicken Billys BIg Burger', 'Chicken Nuggets Burger', 'Veg Grilled Sandwich', 'Paneer Burji Sandwich', 'Toasted Paneer Sandwich', 'Grilled Mushroom Sandwich', 'Corn and Cheese Sandwich', 'Egg Sandwich', 'Egg Chutney Sandwich', 'Chicken Mayo Sandwich', 'Chicken Cheese Sandwich', 'Hotdog Sandwich', 'Tuna Sandwich', 'Tangy Tomato Pasta', 'Spicy Penne Pasta', 'Alfredo Veg Pasta', 'Smoked Chicken Pasta', 'Alfredo Chicken Pasta', 'French Fries', 'Veg', 'Chicken', 'Fish Finger', 'Vegetable Omelette', 'Masala Omelette', 'Spanish Omelette', 'Cheese Omelette', 'Paneer Omelette', 'Ultimate Vegan Shakes', 'Bittersweet Symphony Shakes', 'The White Paradise Shakes', 'Deep Dark Abyss Shakes', 'Irene Adlers Mystery Shakes', 'Red Weather Parody Shakes', 'Mind palace Shakes', 'Tower of Baskerville Shakes', 'Nights Demon Shakes', 'Black and White Romance Shakes', 'Day Dream Shakes', 'Sherlocks Addiction Shakes', 'Mrs Hudsons Secret Shakes', 'Classic Waffles', 'Caramel Waffles', 'Choco Treat Waffles', 'Brownie Waffles', 'Nutella Crunch Waffles', 'Snowflakes Waffles', 'Rocky Road Waffles', 'Lights Out Waffles'] (9x)\n",
      "\t                       ['Students Veg Combo', 'Office Veg Combo', 'Students Non Veg Combo', 'Office Non Veg Combo', 'Mughlai Non Veg Combo', 'Aloo Paratha Combo', 'Poori Aloo Jeera Combo', 'Poori Aloo Tomato Combo', 'Paneer Paratha Combo', 'Students Veg Combo', 'Office Veg Combo', 'Students Non Veg Combo', 'Office Non Veg Combo', 'Mughlai Non Veg Combo', 'Shami Kebab Roll', 'Mughlai Biryani Combo [Veg]', 'Nawabi Thali Combo', 'The Lajawab Gravy Combo [Veg]', 'Mughlai Meal For Two [Veg]', 'The After Party Starters', 'Royal Feast For Four [Veg]', 'The Galawati Roll', 'Mughlai Biryani Combo [Non Veg]', 'The Nihari Combo [Chicken]', 'The Nihari Combo (Mutton)', 'The Lajawab Gravy Combo [Non Veg]', 'Mughlai Meal For Two [Non-Veg]', 'Biryani Blast', 'Royal Feast For Four [Non-Veg]', 'Baby Corn 65', 'Chilli Baby Corn', 'Mushroom 65', 'Chilli Mushroom', 'Veg Seekh Kebab', 'Kasturi Paneer Tikka', 'Paneer 65', 'Paneer Angara', 'Chilli Paneer', 'Hara Bhara Kebab', 'Paneer Tikka', 'Paneer Malai Tikka', 'Tandoori Veg Platter', 'Tandoori Chicken', 'Mutton Shami Kebab [Signature]', 'Mutton Galouti Kebab [Signature]', 'Chicken 65', 'Chicken Seekh Kebab', 'Chicken Tikka', 'Chilli Chicken', 'Chicken Angara', 'Chicken Kasturi Kebab', 'Chicken Malai Tikka', 'Mutton Sultani Seekh Kebab', 'Non Veg Tandoori Platter', 'Aloo Tomato Gravy', 'Aloo Capsicum Dry', 'Aloo Jeera Dry', 'Dal Fry', 'Dal Tadka', 'Rajma', 'Chole', 'Dal Makhani [Signature]', 'Lipta Mushroom Masala', 'Veg Kolhapuri', 'Chole Curry', 'Paneer Bhurji', 'Miloni Tarkari [Signature]', 'Mixed Veg', 'Palak Paneer', 'Diwani Handi', 'Mattar Paneer', 'Paneer Do Pyaza', 'Butter Paneer', 'Kadai Paneer [Signature]', 'Paneer Tikka Masala [Signature]', 'Methi Malai Paneer', 'Paneer Lababdar [Signature]', 'Murg Musallam', 'Egg Bhurji', 'Egg Curry', 'Chicken Nihari [Signature]', 'Chicken Curry', 'Chicken Do Pyaza', 'Chicken Methi Khas', 'Hyderabadi Chicken', 'Chicken Hara Pyaza', 'Chicken Kali Mirch', 'Chicken Kohlapuri', 'Kadai Chicken', 'Chicken Lababdar', 'Chicken Lajawab [Signature]', 'Chicken Tikka Masala', 'Chicken Boti Kebab Masala', 'Butter Chicken', 'Mughlai Chicken Masala [Signature]', 'Mutton Nihari [Signature]', 'Mutton Do Pyaza', 'Mutton Korma', 'Mutton Rogan Josh', 'Mughlai Mutton Masala', 'Mutton Boti Kebab Masala [Signature]', 'Murg Musallam', 'Steamed Rice', 'Jeera Rice', 'Ghee Rice', 'Khushka', 'Pulao', 'Veg Biryani', 'Mughlai Chicken Dum Biryani [Signature]', 'Chicken Tikka Biryani', 'Mughlai Mutton Dum Biryani [Signature]', 'Tandoori Roti', 'Lachha Paratha', 'Naan', 'Amritsari Kulcha', 'Garlic Naan', 'Missi Roti', 'Mughlai Paratha', 'Poori', 'Mughlai Bread Basket', 'Papad', 'Curd', 'Boondi Raita', 'Mixed Raita', 'Masala Papad', 'Pineapple Raita', 'Paneer Roll', 'Hawker Style Boiled Egg', 'Masala Omelette', 'Chicken Roll', 'Chicken Boti Roll', 'Shami Roll', 'The Galouti Roll [Signature]', 'Mutton Boti Roll', 'Gulab Jamun [2 Pieces]', 'Ice Cream Scoop [single]', 'Rice Kheer', 'Awadhi Kheer [Signature]', 'Gajar Ka Halwa', 'Lachhedar Rabri', 'Shahi Tukda [Signature]', 'Thums Up [750 Ml]', 'Mineral Water [1 Litre]', 'Buttermilk', 'Lime Water', 'Thums Up (600 Ml)', 'Jal Jeera', 'Lassi', 'Lime Water Salt', 'Lime Water Sweet', 'Chocolate Lassi', 'Strawberry Lassi', 'Alphonso Mango Lassi', 'Thandai', 'Mango Lassi'] (9x)\n",
      "\n",
      " 12. \"listed_in(type)\"\n",
      "\n",
      "\tType of data:          Text\n",
      "\tContains null values:  False\n",
      "\tUnique values:         7\n",
      "\tLongest value:         18 characters\n",
      "\tMost common values:    Delivery (25942x)\n",
      "\t                       Dine-out (17779x)\n",
      "\t                       Desserts (3593x)\n",
      "\t                       Cafes (1723x)\n",
      "\t                       Drinks & nightlife (1101x)\n",
      "\n",
      " 13. \"listed_in(city)\"\n",
      "\n",
      "\tType of data:          Text\n",
      "\tContains null values:  False\n",
      "\tUnique values:         30\n",
      "\tLongest value:         21 characters\n",
      "\tMost common values:    BTM (3279x)\n",
      "\t                       Koramangala 7th Block (2938x)\n",
      "\t                       Koramangala 5th Block (2836x)\n",
      "\t                       Koramangala 4th Block (2779x)\n",
      "\t                       Koramangala 6th Block (2623x)\n",
      "\n",
      "Row count: 51717\n"
     ]
    }
   ],
   "source": [
    "!csvstat zomato2.csv"
   ]
  },
  {
   "cell_type": "markdown",
   "id": "525f125f-aaa0-4894-b83e-6a1fbc7f9db8",
   "metadata": {},
   "source": [
    "Check if the new csv file has common syntax errors"
   ]
  },
  {
   "cell_type": "code",
   "execution_count": 9,
   "id": "24590e5e-71bb-437d-9692-ec98e96d2f66",
   "metadata": {},
   "outputs": [
    {
     "name": "stdout",
     "output_type": "stream",
     "text": [
      "No errors.\n"
     ]
    }
   ],
   "source": [
    "!csvclean zomato2.csv"
   ]
  },
  {
   "cell_type": "markdown",
   "id": "0834a315-df54-489e-b2a2-20b57ae93e6f",
   "metadata": {},
   "source": [
    "Our data has done the simple cleaning and we can create table now."
   ]
  },
  {
   "cell_type": "code",
   "execution_count": 10,
   "id": "ff81ca89-a581-4d02-aea9-2b0aa324be80",
   "metadata": {},
   "outputs": [
    {
     "name": "stdout",
     "output_type": "stream",
     "text": [
      "ipython-sql==0.4.1\n",
      "psycopg2==2.9.5\n",
      "psycopg2-binary==2.9.5\n"
     ]
    }
   ],
   "source": [
    "!pip freeze | grep -E 'ipython-sql|psycopg2'"
   ]
  },
  {
   "cell_type": "code",
   "execution_count": 11,
   "id": "4d7e789b-04db-419f-9359-47cff2d21de3",
   "metadata": {},
   "outputs": [],
   "source": [
    " %load_ext sql"
   ]
  },
  {
   "cell_type": "code",
   "execution_count": 12,
   "id": "a947ab70-389f-4f7c-98db-80f66b594545",
   "metadata": {},
   "outputs": [],
   "source": [
    "!dropdb -U student GP9"
   ]
  },
  {
   "cell_type": "code",
   "execution_count": 13,
   "id": "1718c26f-6ced-4f56-a1c8-7856a7496339",
   "metadata": {},
   "outputs": [],
   "source": [
    "!createdb -U student GP9"
   ]
  },
  {
   "cell_type": "code",
   "execution_count": 14,
   "id": "88bfe095-0f25-4cfc-b846-7f65be5f5d05",
   "metadata": {},
   "outputs": [],
   "source": [
    "%sql postgresql://student@/GP9"
   ]
  },
  {
   "cell_type": "code",
   "execution_count": 15,
   "id": "19f22977-a7d8-437d-bf61-90cecaff656d",
   "metadata": {},
   "outputs": [
    {
     "name": "stdout",
     "output_type": "stream",
     "text": [
      "psql (PostgreSQL) 12.12 (Ubuntu 12.12-0ubuntu0.20.04.1)\n"
     ]
    }
   ],
   "source": [
    "!psql --version"
   ]
  },
  {
   "cell_type": "markdown",
   "id": "b0dcae93-3b2b-4819-a280-4cf1d5ffe337",
   "metadata": {},
   "source": [
    "### Creating ZOMATO table "
   ]
  },
  {
   "cell_type": "code",
   "execution_count": 18,
   "id": "9176f513-7616-49f0-a135-4f03a94ec192",
   "metadata": {},
   "outputs": [
    {
     "name": "stdout",
     "output_type": "stream",
     "text": [
      " * postgresql://student@/GP9\n",
      "Done.\n",
      "Done.\n"
     ]
    },
    {
     "data": {
      "text/plain": [
       "[]"
      ]
     },
     "execution_count": 18,
     "metadata": {},
     "output_type": "execute_result"
    }
   ],
   "source": [
    "%%sql\n",
    "DROP TABLE IF EXISTS ZOMATO Cascade;\n",
    "CREATE TABLE ZOMATO (\n",
    "    name VARCHAR(100),\n",
    "    online_order VARCHAR(100),\n",
    "    book_table VARCHAR(100),\n",
    "    rate VARCHAR(10),\n",
    "    votes INTEGER,\n",
    "    location VARCHAR(100),\n",
    "    rest_type VARCHAR(100),\n",
    "    dish_liked VARCHAR(100),\n",
    "    cuisines VARCHAR(100),\n",
    "    approx_cost_two_people INTEGER,\n",
    "    menu_item VARCHAR(100),\n",
    "    listed_in_type VARCHAR(100),\n",
    "    listed_in_city VARCHAR(100)\n",
    ");"
   ]
  },
  {
   "cell_type": "code",
   "execution_count": 19,
   "id": "90dca669-8f91-40e5-a17c-e83fb8c1e80b",
   "metadata": {},
   "outputs": [
    {
     "name": "stdout",
     "output_type": "stream",
     "text": [
      " * postgresql://student@/GP9\n",
      "0 rows affected.\n"
     ]
    },
    {
     "data": {
      "text/html": [
       "<table>\n",
       "    <thead>\n",
       "        <tr>\n",
       "            <th>name</th>\n",
       "            <th>online_order</th>\n",
       "            <th>book_table</th>\n",
       "            <th>rate</th>\n",
       "            <th>votes</th>\n",
       "            <th>location</th>\n",
       "            <th>rest_type</th>\n",
       "            <th>dish_liked</th>\n",
       "            <th>cuisines</th>\n",
       "            <th>approx_cost_two_people</th>\n",
       "            <th>menu_item</th>\n",
       "            <th>listed_in_type</th>\n",
       "            <th>listed_in_city</th>\n",
       "        </tr>\n",
       "    </thead>\n",
       "    <tbody>\n",
       "    </tbody>\n",
       "</table>"
      ],
      "text/plain": [
       "[]"
      ]
     },
     "execution_count": 19,
     "metadata": {},
     "output_type": "execute_result"
    }
   ],
   "source": [
    "%%sql\n",
    "select * from ZOMATO;"
   ]
  },
  {
   "cell_type": "code",
   "execution_count": 31,
   "id": "1b080510-23aa-4cb5-89db-a4bbac78ca52",
   "metadata": {},
   "outputs": [
    {
     "name": "stdout",
     "output_type": "stream",
     "text": [
      " * postgresql://student@/GP9\n",
      "(psycopg2.errors.BadCopyFileFormat) missing data for column \"location_key\"\n",
      "CONTEXT:  COPY zomato, line 2: \"Jalsa,Yes,Yes,4.1/5,775,Banashankari,Casual Dining,\"Pasta, Lunch Buffet, Masala Papad, Paneer Lajawa...\"\n",
      "\n",
      "[SQL: COPY ZOMATO FROM '/home/ubuntu/notebooks/final exam/zomato2.csv'\n",
      "CSV\n",
      "HEADER;]\n",
      "(Background on this error at: https://sqlalche.me/e/14/9h9h)\n"
     ]
    }
   ],
   "source": [
    "%%sql\n",
    "COPY ZOMATO FROM '/home/ubuntu/notebooks/final exam/zomato2.csv'\n",
    "CSV\n",
    "HEADER;"
   ]
  },
  {
   "cell_type": "markdown",
   "id": "1c2efc7e-ba65-4411-bf82-b7d9de4c4860",
   "metadata": {},
   "source": [
    "### star schema"
   ]
  },
  {
   "cell_type": "code",
   "execution_count": null,
   "id": "f4e9a542-728c-4556-903c-468ef6ffa4a7",
   "metadata": {},
   "outputs": [],
   "source": []
  },
  {
   "cell_type": "markdown",
   "id": "59b64b50-e2f7-424a-a489-a873df432635",
   "metadata": {},
   "source": [
    "### Create location table as a dimension table"
   ]
  },
  {
   "cell_type": "code",
   "execution_count": 21,
   "id": "988db362-4db3-40bb-9677-b62261de511b",
   "metadata": {},
   "outputs": [
    {
     "name": "stdout",
     "output_type": "stream",
     "text": [
      " * postgresql://student@/GP9\n",
      "Done.\n",
      "Done.\n"
     ]
    },
    {
     "data": {
      "text/plain": [
       "[]"
      ]
     },
     "execution_count": 21,
     "metadata": {},
     "output_type": "execute_result"
    }
   ],
   "source": [
    "%%sql\n",
    "DROP TABLE IF EXISTS location; \n",
    "CREATE TABLE location(\n",
    "         Key SERIAL PRIMARY KEY,\n",
    "         location VARCHAR(100),\n",
    "         cuisines VARCHAR(100),\n",
    "         menu_item VARCHAR(100)\n",
    "         );         "
   ]
  },
  {
   "cell_type": "markdown",
   "id": "50910e6c-c54c-49a0-9490-ceab23326414",
   "metadata": {},
   "source": [
    "#### Populate the location table with data from table ZOMATO "
   ]
  },
  {
   "cell_type": "code",
   "execution_count": 22,
   "id": "a581b276-6fc8-4306-9a55-43512c378a5b",
   "metadata": {},
   "outputs": [
    {
     "name": "stdout",
     "output_type": "stream",
     "text": [
      " * postgresql://student@/GP9\n",
      "0 rows affected.\n"
     ]
    },
    {
     "data": {
      "text/plain": [
       "[]"
      ]
     },
     "execution_count": 22,
     "metadata": {},
     "output_type": "execute_result"
    }
   ],
   "source": [
    "%%sql\n",
    "INSERT INTO location(location ,cuisines,menu_item)\n",
    "SELECT DISTINCT location , cuisines ,menu_item\n",
    "FROM ZOMATO; "
   ]
  },
  {
   "cell_type": "code",
   "execution_count": 23,
   "id": "a8444940-f9b2-49c8-8f33-49be2d04be41",
   "metadata": {},
   "outputs": [
    {
     "name": "stdout",
     "output_type": "stream",
     "text": [
      " * postgresql://student@/GP9\n",
      "0 rows affected.\n"
     ]
    },
    {
     "data": {
      "text/html": [
       "<table>\n",
       "    <thead>\n",
       "        <tr>\n",
       "            <th>key</th>\n",
       "            <th>location</th>\n",
       "            <th>cuisines</th>\n",
       "            <th>menu_item</th>\n",
       "        </tr>\n",
       "    </thead>\n",
       "    <tbody>\n",
       "    </tbody>\n",
       "</table>"
      ],
      "text/plain": [
       "[]"
      ]
     },
     "execution_count": 23,
     "metadata": {},
     "output_type": "execute_result"
    }
   ],
   "source": [
    "%%sql\n",
    "select * from location limit 10"
   ]
  },
  {
   "cell_type": "code",
   "execution_count": 24,
   "id": "dc359526-7cd7-4ef7-9751-f262e880e862",
   "metadata": {},
   "outputs": [
    {
     "name": "stdout",
     "output_type": "stream",
     "text": [
      " * postgresql://student@/GP9\n",
      "Done.\n"
     ]
    },
    {
     "data": {
      "text/plain": [
       "[]"
      ]
     },
     "execution_count": 24,
     "metadata": {},
     "output_type": "execute_result"
    }
   ],
   "source": [
    "%%sql\n",
    "ALTER TABLE ZOMATO\n",
    "ADD COLUMN location_key INTEGER,\n",
    "ADD CONSTRAINT fk_location\n",
    "    FOREIGN KEY (location_key)\n",
    "    REFERENCES location (key);"
   ]
  },
  {
   "cell_type": "code",
   "execution_count": 25,
   "id": "49fb0e52-1904-41f9-b2fe-e5200ab01212",
   "metadata": {},
   "outputs": [
    {
     "name": "stdout",
     "output_type": "stream",
     "text": [
      " * postgresql://student@/GP9\n",
      "0 rows affected.\n"
     ]
    },
    {
     "data": {
      "text/plain": [
       "[]"
      ]
     },
     "execution_count": 25,
     "metadata": {},
     "output_type": "execute_result"
    }
   ],
   "source": [
    "%%sql\n",
    "UPDATE ZOMATO\n",
    "SET location_key = location.key\n",
    "FROM location"
   ]
  },
  {
   "cell_type": "markdown",
   "id": "2100863c-eda2-45eb-ab42-e809582232f3",
   "metadata": {},
   "source": [
    "### Create cuisines table as a dimension table"
   ]
  },
  {
   "cell_type": "code",
   "execution_count": 26,
   "id": "a2a58adb-42da-4936-a41f-1f23f53c105b",
   "metadata": {},
   "outputs": [
    {
     "name": "stdout",
     "output_type": "stream",
     "text": [
      " * postgresql://student@/GP9\n",
      "Done.\n",
      "Done.\n"
     ]
    },
    {
     "data": {
      "text/plain": [
       "[]"
      ]
     },
     "execution_count": 26,
     "metadata": {},
     "output_type": "execute_result"
    }
   ],
   "source": [
    "%%sql\n",
    "DROP TABLE IF EXISTS cuisines; \n",
    "CREATE TABLE cuisines(\n",
    "         Key SERIAL PRIMARY KEY,\n",
    "         cuisines VARCHAR(100),\n",
    "         menu_item VARCHAR(100),\n",
    "         rate VARCHAR(10)\n",
    "         );   "
   ]
  },
  {
   "cell_type": "markdown",
   "id": "64e7377a-17b3-4bb6-badd-7aa1468e2c4c",
   "metadata": {},
   "source": [
    "### Populate the cuisines table with data from table ZOMATO "
   ]
  },
  {
   "cell_type": "code",
   "execution_count": 27,
   "id": "86367e60-fa46-4d28-a7aa-263faeb99027",
   "metadata": {},
   "outputs": [
    {
     "name": "stdout",
     "output_type": "stream",
     "text": [
      " * postgresql://student@/GP9\n",
      "0 rows affected.\n"
     ]
    },
    {
     "data": {
      "text/plain": [
       "[]"
      ]
     },
     "execution_count": 27,
     "metadata": {},
     "output_type": "execute_result"
    }
   ],
   "source": [
    "%%sql\n",
    "INSERT INTO cuisines(cuisines ,menu_item,rate)\n",
    "SELECT DISTINCT cuisines , menu_item , rate\n",
    "FROM ZOMATO;"
   ]
  },
  {
   "cell_type": "code",
   "execution_count": 28,
   "id": "5f3db286-d448-4db3-80e7-b74f8cc0dfc9",
   "metadata": {},
   "outputs": [
    {
     "name": "stdout",
     "output_type": "stream",
     "text": [
      " * postgresql://student@/GP9\n",
      "0 rows affected.\n"
     ]
    },
    {
     "data": {
      "text/html": [
       "<table>\n",
       "    <thead>\n",
       "        <tr>\n",
       "            <th>key</th>\n",
       "            <th>cuisines</th>\n",
       "            <th>menu_item</th>\n",
       "            <th>rate</th>\n",
       "        </tr>\n",
       "    </thead>\n",
       "    <tbody>\n",
       "    </tbody>\n",
       "</table>"
      ],
      "text/plain": [
       "[]"
      ]
     },
     "execution_count": 28,
     "metadata": {},
     "output_type": "execute_result"
    }
   ],
   "source": [
    "%%sql\n",
    "select * from cuisines limit 10"
   ]
  },
  {
   "cell_type": "code",
   "execution_count": null,
   "id": "ec5ec128-ec5b-4390-aa16-12ae0a26bf38",
   "metadata": {},
   "outputs": [],
   "source": []
  }
 ],
 "metadata": {
  "kernelspec": {
   "display_name": "Python 3 (ipykernel)",
   "language": "python",
   "name": "python3"
  },
  "language_info": {
   "codemirror_mode": {
    "name": "ipython",
    "version": 3
   },
   "file_extension": ".py",
   "mimetype": "text/x-python",
   "name": "python",
   "nbconvert_exporter": "python",
   "pygments_lexer": "ipython3",
   "version": "3.9.12"
  }
 },
 "nbformat": 4,
 "nbformat_minor": 5
}
